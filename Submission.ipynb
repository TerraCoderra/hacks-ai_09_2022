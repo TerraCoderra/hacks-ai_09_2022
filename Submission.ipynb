{
 "cells": [
  {
   "cell_type": "markdown",
   "metadata": {
    "id": "kEsHWyFJX6xD"
   },
   "source": [
    "# Подготовка сессии"
   ]
  },
  {
   "cell_type": "code",
   "execution_count": 1,
   "metadata": {},
   "outputs": [
    {
     "data": {
      "text/plain": [
       "<torch._C.Generator at 0x7f9210080c90>"
      ]
     },
     "execution_count": 1,
     "metadata": {},
     "output_type": "execute_result"
    }
   ],
   "source": [
    "import random\n",
    "random.seed(88)\n",
    "import torch\n",
    "torch.manual_seed(88)"
   ]
  },
  {
   "cell_type": "code",
   "execution_count": 12,
   "metadata": {
    "colab": {
     "base_uri": "https://localhost:8080/"
    },
    "id": "Gzuv2run9Yxa",
    "outputId": "5bb9661e-9ed7-4d37-af07-9c93bc0f55a4"
   },
   "outputs": [],
   "source": [
    "import albumentations as A\n",
    "from albumentations.pytorch import ToTensorV2\n",
    "\n",
    "import pandas as pd \n",
    "import numpy as np\n",
    "import glob\n",
    "from tqdm import tqdm\n",
    "import cv2\n",
    "from sklearn.model_selection import train_test_split\n",
    "\n",
    "import segmentation_models_pytorch as smp\n",
    "\n",
    "import torch\n",
    "import torch.nn as nn\n",
    "import torch.optim as optim\n",
    "from torch.utils.data import Dataset\n",
    "from torchvision import datasets, models, transforms\n",
    "from torchvision.models import resnet18\n",
    "from torchvision.utils import draw_segmentation_masks\n",
    "\n",
    "from PIL import Image\n",
    "import matplotlib.pyplot as plt\n",
    "from IPython.display import clear_output\n",
    "\n",
    "import warnings\n",
    "warnings.filterwarnings(\"ignore\")\n",
    "import os\n",
    "import json\n"
   ]
  },
  {
   "cell_type": "markdown",
   "metadata": {
    "id": "l5MpBxb2MjsO"
   },
   "source": [
    "## Датасет\n",
    "\n",
    "Прежде чем разбираться с моделями, нам надо в первую очередь разобраться с тем, как грузить датасет. Давайте напишем класс в торче для этого."
   ]
  },
  {
   "cell_type": "code",
   "execution_count": 3,
   "metadata": {
    "id": "IS7LtxhL8WWh"
   },
   "outputs": [],
   "source": [
    "class EyeDataset(Dataset):\n",
    "    \"\"\"\n",
    "    Класс датасета, организующий загрузку и получение изображений и соответствующих разметок\n",
    "    \"\"\"\n",
    "\n",
    "    def __init__(self, data_folder: str, transform = None):\n",
    "        self.class_ids = {\"vessel\": 1}\n",
    "\n",
    "        self.data_folder = data_folder\n",
    "        self.transform = transform\n",
    "        self._image_files = glob.glob(f\"{data_folder}/*.png\")\n",
    "\n",
    "    @staticmethod\n",
    "    def read_image(path: str) -> np.ndarray:\n",
    "        image = cv2.imread(str(path), cv2.IMREAD_COLOR)\n",
    "        image = cv2.cvtColor(image, cv2.COLOR_BGR2RGB)\n",
    "        image = np.array(image / 255, dtype=np.float32)\n",
    "        return image\n",
    "    @staticmethod\n",
    "    def read_mask(path: str) -> np.ndarray:\n",
    "        mask = cv2.imread(str(path), cv2.IMREAD_UNCHANGED)\n",
    "        mask = np.array(mask / 255, dtype=np.float32)\n",
    "        return mask\n",
    "\n",
    "    def __getitem__(self, idx: int) -> dict:\n",
    "        # Достаём имя файла по индексу\n",
    "        image_path = self._image_files[idx]\n",
    "\n",
    "        # Получаем соответствующий файл разметки\n",
    "        mask_path = image_path.replace(\"images\", \"masks\")\n",
    "\n",
    "        image = self.read_image(image_path)\n",
    "\n",
    "        mask = self.read_mask(mask_path)\n",
    "\n",
    "        sample = {'image': image,\n",
    "                  'mask': mask}\n",
    "\n",
    "        if self.transform is not None:\n",
    "            sample = self.transform(**sample)\n",
    "\n",
    "        return sample\n",
    "\n",
    "    def __len__(self):\n",
    "        return len(self._image_files)\n",
    "\n",
    "\n",
    "\n",
    "class DatasetPart(Dataset):\n",
    "    \"\"\"\n",
    "    Обертка над классом датасета для его разбиения на части\n",
    "    \"\"\"\n",
    "    def __init__(self, dataset: Dataset,\n",
    "                 indices: np.ndarray,\n",
    "                 transform: A.Compose = None):\n",
    "        self.dataset = dataset\n",
    "        self.indices = indices\n",
    "\n",
    "        self.transform = transform\n",
    "\n",
    "    def __getitem__(self, idx: int) -> dict:\n",
    "        sample = self.dataset[self.indices[idx]]\n",
    "\n",
    "        if self.transform is not None:\n",
    "            sample = self.transform(**sample)\n",
    "\n",
    "        return sample\n",
    "\n",
    "    def __len__(self) -> int:\n",
    "        return len(self.indices)\n"
   ]
  },
  {
   "cell_type": "code",
   "execution_count": 4,
   "metadata": {
    "id": "7URcg7KlMqbV"
   },
   "outputs": [],
   "source": [
    "# Задаем преобразование изображений\n",
    "size = 640\n",
    "train_list = [\n",
    "              A.PadIfNeeded(size, size, position = 'top_left'),\n",
    "              ToTensorV2(transpose_mask=True),\n",
    "              ]\n",
    "eval_list = [\n",
    "              A.PadIfNeeded(size, size, position = 'top_left'),\n",
    "              ToTensorV2(transpose_mask=True)]\n",
    "\n",
    "transforms = {'train': A.Compose(train_list), 'test': A.Compose(eval_list)}\n"
   ]
  },
  {
   "cell_type": "code",
   "execution_count": 5,
   "metadata": {
    "id": "5vqgjSAyMwT4"
   },
   "outputs": [],
   "source": [
    "# Инициализируем датасет\n",
    "dataset = EyeDataset(\"content_train/aug_images/\")"
   ]
  },
  {
   "cell_type": "code",
   "execution_count": 7,
   "metadata": {},
   "outputs": [
    {
     "data": {
      "text/plain": [
       "8704"
      ]
     },
     "execution_count": 7,
     "metadata": {},
     "output_type": "execute_result"
    }
   ],
   "source": [
    "len(dataset)"
   ]
  },
  {
   "cell_type": "code",
   "execution_count": 8,
   "metadata": {
    "id": "-glCq25BODdU"
   },
   "outputs": [],
   "source": [
    "# разделим датасет на тренировочный и валидационный, чтобы смотреть на качество\n",
    "train_indices, test_indices = train_test_split(range(len(dataset)), test_size=0.2, random_state=88)"
   ]
  },
  {
   "cell_type": "code",
   "execution_count": 9,
   "metadata": {
    "colab": {
     "base_uri": "https://localhost:8080/"
    },
    "id": "j4EHU18wPmqv",
    "outputId": "fd333843-93ec-4185-d572-8b8db6df4534"
   },
   "outputs": [
    {
     "name": "stdout",
     "output_type": "stream",
     "text": [
      "Разбиение на train/test : 6963/1741\n"
     ]
    }
   ],
   "source": [
    "print(f\"Разбиение на train/test : {len(train_indices)}/{len(test_indices)}\")"
   ]
  },
  {
   "cell_type": "code",
   "execution_count": 10,
   "metadata": {
    "id": "zcp0qk5oPode"
   },
   "outputs": [],
   "source": [
    "# Разбиваем объект датасета на тренировочный и валидационный\n",
    "train_dataset = DatasetPart(dataset, train_indices, transform=transforms['train'])\n",
    "valid_dataset = DatasetPart(dataset, test_indices, transform=transforms['test'])"
   ]
  },
  {
   "cell_type": "code",
   "execution_count": 11,
   "metadata": {
    "id": "ukJo2MSwPsWL"
   },
   "outputs": [],
   "source": [
    "train_loader = torch.utils.data.DataLoader(train_dataset, 6,\n",
    "                                           num_workers=3,\n",
    "                                   shuffle=True, drop_last=True)\n",
    "\n",
    "valid_loader = torch.utils.data.DataLoader(valid_dataset, 6,\n",
    "                                           num_workers=3,\n",
    "                                   shuffle=True, drop_last=True)"
   ]
  },
  {
   "cell_type": "markdown",
   "metadata": {
    "id": "JAoCqzAWH7du"
   },
   "source": [
    "# Класс тренировщика модели"
   ]
  },
  {
   "cell_type": "code",
   "execution_count": 13,
   "metadata": {
    "id": "Ac1V-EjHP8RT"
   },
   "outputs": [],
   "source": [
    "from typing import Tuple, List, Callable, Iterator, Optional, Dict, Any\n",
    "from collections import defaultdict\n",
    "\n",
    "class UnetTrainer:\n",
    "    \"\"\"\n",
    "    Класс, реализующий обучение модели\n",
    "    \"\"\"\n",
    "\n",
    "    def __init__(self, model: nn.Module, optimizer: torch.optim.Optimizer,\n",
    "                 criterion: Callable[[torch.Tensor, torch.Tensor], torch.Tensor],\n",
    "                 device: str, metric_functions: List[Tuple[str, Callable]] = [],\n",
    "                 epoch_number: int = 0,\n",
    "                 lr_scheduler: Optional[Any] = None):\n",
    "        self.model = model\n",
    "        self.optimizer = optimizer  \n",
    "        self.criterion = criterion\n",
    "        self.lr_scheduler = lr_scheduler\n",
    "\n",
    "        self.device = device\n",
    "\n",
    "        self.metric_functions = metric_functions\n",
    "\n",
    "        self.epoch_number = epoch_number\n",
    "\n",
    "    @torch.no_grad()\n",
    "    def evaluate_batch(self, val_iterator: Iterator, eval_on_n_batches: int) -> Optional[Dict[str, float]]:     \n",
    "        predictions = []\n",
    "        targets = []\n",
    "\n",
    "        losses = []\n",
    "\n",
    "        for real_batch_number in range(eval_on_n_batches):\n",
    "            try:\n",
    "                batch = next(val_iterator)\n",
    "\n",
    "                xs = batch['image'].to(self.device)\n",
    "                ys_true = batch['mask'].to(self.device)\n",
    "            except StopIteration:\n",
    "                if real_batch_number == 0:\n",
    "                    return None\n",
    "                else:\n",
    "                    break\n",
    "            ys_pred = self.model.eval()(xs)\n",
    "            loss = self.criterion(ys_pred, ys_true)\n",
    "\n",
    "            losses.append(loss.item())\n",
    "\n",
    "            predictions.append(ys_pred.cpu())\n",
    "            targets.append(ys_true.cpu())\n",
    "\n",
    "        predictions = torch.cat(predictions, dim=0)\n",
    "        targets = torch.cat(targets, dim=0)\n",
    "\n",
    "        metrics = {'loss': np.mean(losses)}\n",
    "\n",
    "        for metric_name, metric_fn in self.metric_functions:\n",
    "            metrics[metric_name] = metric_fn(predictions, targets).item()\n",
    "\n",
    "        return metrics\n",
    "\n",
    "    @torch.no_grad()\n",
    "    def evaluate(self, val_loader, eval_on_n_batches: int = 1) -> Dict[str, float]:\n",
    "        \"\"\"\n",
    "        Вычисление метрик для эпохи\n",
    "        \"\"\"\n",
    "        metrics_sum = defaultdict(float)\n",
    "        num_batches = 0\n",
    "\n",
    "        val_iterator = iter(val_loader)\n",
    "\n",
    "        while True:\n",
    "            batch_metrics = self.evaluate_batch(val_iterator, eval_on_n_batches)\n",
    "\n",
    "            if batch_metrics is None:\n",
    "                break\n",
    "\n",
    "            for metric_name in batch_metrics:\n",
    "                metrics_sum[metric_name] += batch_metrics[metric_name]\n",
    "\n",
    "            num_batches += 1\n",
    "\n",
    "        metrics = {}\n",
    "\n",
    "        for metric_name in metrics_sum:\n",
    "            metrics[metric_name] = metrics_sum[metric_name] / num_batches\n",
    "\n",
    "        return metrics\n",
    "\n",
    "    def fit_batch(self, train_iterator: Iterator, update_every_n_batches: int) -> Optional[Dict[str, float]]:\n",
    "        \"\"\"\n",
    "        Тренировка модели на одном батче\n",
    "        \"\"\"\n",
    "\n",
    "        self.optimizer.zero_grad()\n",
    "\n",
    "        predictions = []\n",
    "        targets = []\n",
    "\n",
    "        losses = []\n",
    "\n",
    "        for real_batch_number in range(update_every_n_batches):\n",
    "            try:\n",
    "                batch = next(train_iterator)\n",
    "\n",
    "                xs = batch['image'].to(self.device)\n",
    "                ys_true = batch['mask'].to(self.device)\n",
    "            except StopIteration:\n",
    "                if real_batch_number == 0:\n",
    "                    return None\n",
    "                else:\n",
    "                    break\n",
    "\n",
    "            ys_pred = self.model.train()(xs)\n",
    "            loss = self.criterion(ys_pred, ys_true)\n",
    "\n",
    "            (loss / update_every_n_batches).backward()\n",
    "\n",
    "            losses.append(loss.item())\n",
    "\n",
    "            predictions.append(ys_pred.cpu())\n",
    "            targets.append(ys_true.cpu())\n",
    "\n",
    "        self.optimizer.step()\n",
    "\n",
    "        predictions = torch.cat(predictions, dim=0)\n",
    "        targets = torch.cat(targets, dim=0)\n",
    "\n",
    "        metrics = {'loss': np.mean(losses)}\n",
    "\n",
    "        for metric_name, metric_fn in self.metric_functions:\n",
    "            metrics[metric_name] = metric_fn(predictions, targets).item()\n",
    "\n",
    "        return metrics\n",
    "\n",
    "    def fit_epoch(self, train_loader, update_every_n_batches: int = 1) -> Dict[str, float]:\n",
    "        \"\"\"\n",
    "        Одна эпоха тренировки модели\n",
    "        \"\"\"\n",
    "\n",
    "        metrics_sum = defaultdict(float)\n",
    "        num_batches = 0\n",
    "\n",
    "        train_iterator = iter(train_loader)\n",
    "\n",
    "        while True:\n",
    "            batch_metrics = self.fit_batch(train_iterator, update_every_n_batches)\n",
    "\n",
    "            if batch_metrics is None:\n",
    "                break\n",
    "\n",
    "            for metric_name in batch_metrics:\n",
    "                metrics_sum[metric_name] += batch_metrics[metric_name]\n",
    "\n",
    "            num_batches += 1\n",
    "\n",
    "        metrics = {}\n",
    "\n",
    "        for metric_name in metrics_sum:\n",
    "            metrics[metric_name] = metrics_sum[metric_name] / num_batches\n",
    "\n",
    "        return metrics\n",
    "\n",
    "    def fit(self, train_loader, num_epochs: int,\n",
    "            val_loader = None, update_every_n_batches: int = 1,\n",
    "            ) -> Dict[str, np.ndarray]:\n",
    "        \"\"\"\n",
    "        Метод, тренирующий модель и вычисляющий метрики для каждой эпохи\n",
    "        \"\"\"\n",
    "\n",
    "        summary = defaultdict(list)\n",
    "\n",
    "        def save_metrics(metrics: Dict[str, float], postfix: str = '') -> None:\n",
    "          # Сохранение метрик в summary\n",
    "            nonlocal summary, self\n",
    "\n",
    "            for metric in metrics:\n",
    "                metric_name, metric_value = f'{metric}{postfix}', metrics[metric]\n",
    "                \n",
    "                summary[metric_name].append(metric_value)\n",
    "        \n",
    "        for _ in tqdm(range(num_epochs - self.epoch_number), initial=self.epoch_number, total=num_epochs):\n",
    "            self.epoch_number += 1\n",
    "            print(self.epoch_number)\n",
    "            train_metrics = self.fit_epoch(train_loader, update_every_n_batches)\n",
    "            print(train_metrics)\n",
    "            with torch.no_grad():\n",
    "                save_metrics(train_metrics, postfix='_train')\n",
    "\n",
    "                if val_loader is not None:\n",
    "                    test_metrics = self.evaluate(val_loader)\n",
    "                    print('test = ', test_metrics)\n",
    "                    save_metrics(test_metrics, postfix='_test')\n",
    "                    torch.save(model, 'vgg16_'+str(self.epoch_number)+'.pt')\n",
    "            if self.lr_scheduler is not None:\n",
    "                self.lr_scheduler.step()\n",
    "\n",
    "        summary = {metric: np.array(summary[metric]) for metric in summary}\n",
    "        \n",
    "        return summary\n"
   ]
  },
  {
   "cell_type": "code",
   "execution_count": 14,
   "metadata": {
    "id": "6TWl-2tSVQlD"
   },
   "outputs": [],
   "source": [
    "# Метрики"
   ]
  },
  {
   "cell_type": "code",
   "execution_count": 15,
   "metadata": {
    "id": "Zltdk2x2VTzY"
   },
   "outputs": [],
   "source": [
    "# F1-мера\n",
    "class SoftDice:\n",
    "    def __init__(self, epsilon=1e-8):\n",
    "        self.epsilon = epsilon\n",
    "\n",
    "    def __call__(self, predictions: List[Dict[str, torch.Tensor]],\n",
    "                 targets: List[Dict[str, torch.Tensor]]) -> torch.Tensor:\n",
    "        numerator = torch.sum(2 * predictions * targets)\n",
    "        denominator = torch.sum(predictions + targets)\n",
    "        return numerator / (denominator + self.epsilon)\n",
    "\n",
    "# Метрика полноты\n",
    "class Recall:\n",
    "    def __init__(self, epsilon=1e-8, b=1):\n",
    "        self.epsilon = epsilon\n",
    "        self.a = b*b\n",
    "\n",
    "    def __call__(self, predictions: List[Dict[str, torch.Tensor]],\n",
    "                 targets: List[Dict[str, torch.Tensor]]) -> torch.Tensor:\n",
    "        numerator = torch.sum(predictions * targets)\n",
    "        denominator = torch.sum(targets)\n",
    "        fn = torch.sum((targets* (1 - predictions)))\n",
    "        tp=numerator\n",
    "\n",
    "        recall = tp / (tp + fn + self.epsilon)\n",
    "\n",
    "        return recall\n",
    "    \n",
    "# Метрика точности\n",
    "class Accuracy:\n",
    "    def __init__(self, epsilon=1e-8, b=1):\n",
    "        self.epsilon = epsilon\n",
    "        self.a = b*b\n",
    "\n",
    "    def __call__(self, predictions: list, targets: list) -> torch.Tensor:\n",
    "        fp = torch.sum((1 - targets) * predictions)          \n",
    "        tp = torch.sum(predictions * targets)   \n",
    "        precision = tp / (tp + fp + self.epsilon)\n",
    "        return precision\n",
    "\n",
    "def make_metrics():\n",
    "    soft_dice = SoftDice()\n",
    "    recall = Recall()\n",
    "    accuracy = Accuracy()\n",
    "\n",
    "    def exp_dice(pred, target):\n",
    "        return soft_dice(torch.exp(pred[:, 1:]), target[:, 1:])\n",
    "\n",
    "    def exp_acc(pred, target):\n",
    "        return accuracy(torch.exp(pred[:, 1:]), target[:, 1:])\n",
    "\n",
    "    def exp_recall(pred, target):\n",
    "        return recall(torch.exp(pred[:, 1:]), target[:, 1:])\n",
    "\n",
    "    return [('dice', exp_dice),\n",
    "            ('accuracy', exp_acc),\n",
    "            ('recall', exp_recall),\n",
    "            ]"
   ]
  },
  {
   "cell_type": "markdown",
   "metadata": {
    "id": "3g-ybm_WP_Pn"
   },
   "source": [
    "## Модель"
   ]
  },
  {
   "cell_type": "code",
   "execution_count": 16,
   "metadata": {
    "id": "DMSb-fY2P8hr"
   },
   "outputs": [],
   "source": [
    "torch.cuda.empty_cache()"
   ]
  },
  {
   "cell_type": "code",
   "execution_count": 19,
   "metadata": {
    "id": "ASE7TWDlQENp"
   },
   "outputs": [],
   "source": [
    "# Подргружаем модель и задаём функцию потерь\n",
    "model = smp.Unet('vgg16', activation='logsoftmax', classes=2).cuda()\n",
    "\n",
    "def make_criterion():\n",
    "    soft_dice = SoftDice()\n",
    "\n",
    "    def exp_dice(pred, target):\n",
    "        return 1 - soft_dice(torch.exp(pred[:, 1:]), target[:, 1:])\n",
    "    return exp_dice\n",
    "\n",
    "criterion = make_criterion()"
   ]
  },
  {
   "cell_type": "code",
   "execution_count": 21,
   "metadata": {
    "id": "GP66jae0QK0k"
   },
   "outputs": [],
   "source": [
    "optimizer = torch.optim.Adam(model.parameters(), 0.000099)"
   ]
  },
  {
   "cell_type": "code",
   "execution_count": 22,
   "metadata": {
    "colab": {
     "base_uri": "https://localhost:8080/"
    },
    "id": "f-bmLtUuQ-LB",
    "outputId": "c331f46d-d764-472b-dd25-96a6e2fc4975",
    "scrolled": true
   },
   "outputs": [
    {
     "name": "stderr",
     "output_type": "stream",
     "text": [
      "\r",
      "  0%|          | 0/20 [00:00<?, ?it/s]"
     ]
    },
    {
     "name": "stdout",
     "output_type": "stream",
     "text": [
      "1\n",
      "{'loss': 0.5024599168835016, 'dice': 0.49754008379681935, 'accuracy': 0.45690430978551816, 'recall': 0.6922321996504942}\n",
      "test =  {'loss': 0.4267154584670889, 'dice': 0.5732845428736819, 'accuracy': 0.47322499968099535, 'recall': 0.7791138705324305}\n"
     ]
    },
    {
     "name": "stderr",
     "output_type": "stream",
     "text": [
      "\r",
      "  5%|▌         | 1/20 [21:30<6:48:31, 1290.09s/it]"
     ]
    },
    {
     "name": "stdout",
     "output_type": "stream",
     "text": [
      "2\n",
      "{'loss': 0.3930101234851212, 'dice': 0.6069898809128877, 'accuracy': 0.5988318349280579, 'recall': 0.6590777963072595}\n",
      "test =  {'loss': 0.40460890387666637, 'dice': 0.5953911006450653, 'accuracy': 0.55574835474635, 'recall': 0.6841120209287981}\n"
     ]
    },
    {
     "name": "stderr",
     "output_type": "stream",
     "text": [
      "\r",
      " 10%|█         | 2/20 [42:19<6:23:20, 1277.83s/it]"
     ]
    },
    {
     "name": "stdout",
     "output_type": "stream",
     "text": [
      "3\n",
      "{'loss': 0.38471356383685407, 'dice': 0.6152864402931402, 'accuracy': 0.6105548408606198, 'recall': 0.6647014362275458}\n",
      "test =  {'loss': 0.4425925848812893, 'dice': 0.5574074143612334, 'accuracy': 0.7502432217026643, 'recall': 0.4712573479955483}\n"
     ]
    },
    {
     "name": "stderr",
     "output_type": "stream",
     "text": [
      "\r",
      " 15%|█▌        | 3/20 [1:03:13<6:00:00, 1270.62s/it]"
     ]
    },
    {
     "name": "stdout",
     "output_type": "stream",
     "text": [
      "4\n",
      "{'loss': 0.37730359851286327, 'dice': 0.622696404074961, 'accuracy': 0.6194838419903602, 'recall': 0.6661216849652639}\n",
      "test =  {'loss': 0.3759446485289212, 'dice': 0.6240553583821346, 'accuracy': 0.6702012451558278, 'recall': 0.6200854644693178}\n"
     ]
    },
    {
     "name": "stderr",
     "output_type": "stream",
     "text": [
      "\r",
      " 20%|██        | 4/20 [1:24:16<5:38:13, 1268.34s/it]"
     ]
    },
    {
     "name": "stdout",
     "output_type": "stream",
     "text": [
      "5\n",
      "{'loss': 0.37120194887292796, 'dice': 0.6287980562381226, 'accuracy': 0.6249027156201009, 'recall': 0.6744141500214828}\n",
      "test =  {'loss': 0.3724951296017088, 'dice': 0.627504880063413, 'accuracy': 0.5878463027701746, 'recall': 0.7157953899793084}\n"
     ]
    },
    {
     "name": "stderr",
     "output_type": "stream",
     "text": [
      "\r",
      " 25%|██▌       | 5/20 [1:44:59<5:15:13, 1260.88s/it]"
     ]
    },
    {
     "name": "stdout",
     "output_type": "stream",
     "text": [
      "6\n",
      "{'loss': 0.3735004481570474, 'dice': 0.6264995598737002, 'accuracy': 0.6225086808389364, 'recall': 0.6697771802529865}\n",
      "test =  {'loss': 0.399798491494409, 'dice': 0.6002015217421707, 'accuracy': 0.6794331355805266, 'recall': 0.5714681298431084}\n"
     ]
    },
    {
     "name": "stderr",
     "output_type": "stream",
     "text": [
      "\r",
      " 30%|███       | 6/20 [2:05:32<4:52:13, 1252.42s/it]"
     ]
    },
    {
     "name": "stdout",
     "output_type": "stream",
     "text": [
      "7\n",
      "{'loss': 0.37179910314494163, 'dice': 0.6282009069618875, 'accuracy': 0.6242010544946235, 'recall': 0.6714991032201308}\n",
      "test =  {'loss': 0.36696708428448643, 'dice': 0.633032906205586, 'accuracy': 0.623831404340057, 'recall': 0.6707691487055791}\n"
     ]
    },
    {
     "name": "stderr",
     "output_type": "stream",
     "text": [
      "\r",
      " 35%|███▌      | 7/20 [2:27:06<4:34:03, 1264.92s/it]"
     ]
    },
    {
     "name": "stdout",
     "output_type": "stream",
     "text": [
      "8\n",
      "{'loss': 0.36484135589722927, 'dice': 0.6351586403419748, 'accuracy': 0.6285978108140539, 'recall': 0.678464158300884}\n",
      "test =  {'loss': 0.3738028283776908, 'dice': 0.6261972046746263, 'accuracy': 0.6772785811652912, 'recall': 0.6202632068046208}\n"
     ]
    },
    {
     "name": "stderr",
     "output_type": "stream",
     "text": [
      "\r",
      " 40%|████      | 8/20 [2:47:56<4:12:06, 1260.53s/it]"
     ]
    },
    {
     "name": "stdout",
     "output_type": "stream",
     "text": [
      "9\n",
      "{'loss': 0.36088330000638963, 'dice': 0.6391166997814457, 'accuracy': 0.6330688886080819, 'recall': 0.6813069562192829}\n",
      "test =  {'loss': 0.3776394546031952, 'dice': 0.6223605371444976, 'accuracy': 0.6593529262988623, 'recall': 0.6203553377361559}\n"
     ]
    },
    {
     "name": "stderr",
     "output_type": "stream",
     "text": [
      "\r",
      " 45%|████▌     | 9/20 [3:09:10<3:51:50, 1264.59s/it]"
     ]
    },
    {
     "name": "stdout",
     "output_type": "stream",
     "text": [
      "10\n",
      "{'loss': 0.35932400725011165, 'dice': 0.6406759863625469, 'accuracy': 0.6356970626185635, 'recall': 0.6847340173855982}\n",
      "test =  {'loss': 0.38324673340238374, 'dice': 0.6167532200346935, 'accuracy': 0.6660153891051989, 'recall': 0.606771509894756}\n"
     ]
    },
    {
     "name": "stderr",
     "output_type": "stream",
     "text": [
      "\r",
      " 50%|█████     | 10/20 [3:29:46<3:29:20, 1256.01s/it]"
     ]
    },
    {
     "name": "stdout",
     "output_type": "stream",
     "text": [
      "11\n",
      "{'loss': 0.3526372858162584, 'dice': 0.6473626883699493, 'accuracy': 0.6409932645146525, 'recall': 0.6901191606961294}\n",
      "test =  {'loss': 0.3777719419578026, 'dice': 0.6222280355030172, 'accuracy': 0.6747397565917144, 'recall': 0.6070931259890591}\n"
     ]
    },
    {
     "name": "stderr",
     "output_type": "stream",
     "text": [
      "\r",
      " 55%|█████▌    | 11/20 [3:50:47<3:08:37, 1257.45s/it]"
     ]
    },
    {
     "name": "stdout",
     "output_type": "stream",
     "text": [
      "12\n",
      "{'loss': 0.35469043054457366, 'dice': 0.6453095421922848, 'accuracy': 0.6408815684228656, 'recall': 0.6874050020490253}\n",
      "test =  {'loss': 0.3594969772059342, 'dice': 0.6405029794228779, 'accuracy': 0.6305911034667776, 'recall': 0.6804896240342785}\n"
     ]
    },
    {
     "name": "stderr",
     "output_type": "stream",
     "text": [
      "\r",
      " 60%|██████    | 12/20 [4:12:02<2:48:21, 1262.73s/it]"
     ]
    },
    {
     "name": "stdout",
     "output_type": "stream",
     "text": [
      "13\n",
      "{'loss': 0.34485349624321376, 'dice': 0.6551464766181355, 'accuracy': 0.6500951825005364, 'recall': 0.6944933135631437}\n",
      "test =  {'loss': 0.359835310434473, 'dice': 0.6401646963481246, 'accuracy': 0.660000292956829, 'recall': 0.6559319041412452}\n"
     ]
    },
    {
     "name": "stderr",
     "output_type": "stream",
     "text": [
      "\r",
      " 65%|██████▌   | 13/20 [4:32:59<2:27:06, 1260.95s/it]"
     ]
    },
    {
     "name": "stdout",
     "output_type": "stream",
     "text": [
      "14\n",
      "{'loss': 0.35449018683926814, 'dice': 0.6455098063901106, 'accuracy': 0.6402463360873949, 'recall': 0.6898939350434271}\n",
      "test =  {'loss': 0.35779585735551245, 'dice': 0.6422041487088023, 'accuracy': 0.6169428938697192, 'recall': 0.7019989925469311}\n"
     ]
    },
    {
     "name": "stderr",
     "output_type": "stream",
     "text": [
      "\r",
      " 70%|███████   | 14/20 [4:54:29<2:06:58, 1269.74s/it]"
     ]
    },
    {
     "name": "stdout",
     "output_type": "stream",
     "text": [
      "15\n",
      "{'loss': 0.3417534639609271, 'dice': 0.6582465152919506, 'accuracy': 0.6543163972815578, 'recall': 0.6956065195734595}\n",
      "test =  {'loss': 0.36368775655483376, 'dice': 0.6363122224337501, 'accuracy': 0.7105844714085708, 'recall': 0.6035520375058677}\n"
     ]
    },
    {
     "name": "stderr",
     "output_type": "stream",
     "text": [
      "\r",
      " 75%|███████▌  | 15/20 [5:15:42<1:45:53, 1270.69s/it]"
     ]
    },
    {
     "name": "stdout",
     "output_type": "stream",
     "text": [
      "16\n",
      "{'loss': 0.355408348348634, 'dice': 0.6445916361654336, 'accuracy': 0.6421500516797433, 'recall': 0.6850606054368449}\n",
      "test =  {'loss': 0.3657897030485087, 'dice': 0.6342102386724321, 'accuracy': 0.5999979847022995, 'recall': 0.7089953301493406}\n"
     ]
    },
    {
     "name": "stderr",
     "output_type": "stream",
     "text": [
      "\r",
      " 80%|████████  | 16/20 [5:37:29<1:25:26, 1281.58s/it]"
     ]
    },
    {
     "name": "stdout",
     "output_type": "stream",
     "text": [
      "17\n",
      "{'loss': 0.3364112213767808, 'dice': 0.6635887411894492, 'accuracy': 0.6587256353455769, 'recall': 0.7032413549899554}\n",
      "test =  {'loss': 0.3563769807075632, 'dice': 0.6436229721474284, 'accuracy': 0.6560825568951582, 'recall': 0.6667546765655971}\n"
     ]
    },
    {
     "name": "stderr",
     "output_type": "stream",
     "text": [
      "\r",
      " 85%|████████▌ | 17/20 [5:58:53<1:04:07, 1282.44s/it]"
     ]
    },
    {
     "name": "stdout",
     "output_type": "stream",
     "text": [
      "18\n",
      "{'loss': 0.3276928684834776, 'dice': 0.6723070903432178, 'accuracy': 0.6663035083904364, 'recall': 0.7106821341641743}\n",
      "test =  {'loss': 0.3652565257302646, 'dice': 0.6347434113679259, 'accuracy': 0.5880643113851126, 'recall': 0.7305386750361176}\n"
     ]
    },
    {
     "name": "stderr",
     "output_type": "stream",
     "text": [
      "\r",
      " 90%|█████████ | 18/20 [6:20:24<42:49, 1284.76s/it]  "
     ]
    },
    {
     "name": "stdout",
     "output_type": "stream",
     "text": [
      "19\n",
      "{'loss': 0.326830253364711, 'dice': 0.6731697029336655, 'accuracy': 0.6696883793989439, 'recall': 0.7090482300070866}\n",
      "test =  {'loss': 0.34653552976147883, 'dice': 0.6534644119698426, 'accuracy': 0.6555805455764819, 'recall': 0.6844866027092111}\n"
     ]
    },
    {
     "name": "stderr",
     "output_type": "stream",
     "text": [
      "\r",
      " 95%|█████████▌| 19/20 [6:41:45<21:23, 1283.85s/it]"
     ]
    },
    {
     "name": "stdout",
     "output_type": "stream",
     "text": [
      "20\n",
      "{'loss': 0.33059231741675016, 'dice': 0.6694076425809414, 'accuracy': 0.6657528061854291, 'recall': 0.7050722073718269}\n",
      "test =  {'loss': 0.36490305888241736, 'dice': 0.6350969071392567, 'accuracy': 0.6946096874998053, 'recall': 0.6127070221081163}\n"
     ]
    },
    {
     "name": "stderr",
     "output_type": "stream",
     "text": [
      "100%|██████████| 20/20 [7:03:10<00:00, 1269.55s/it]\n"
     ]
    }
   ],
   "source": [
    "# Обучаем модель, сохраняем модель после 10 эпохи под именем vgg16_10.pt\n",
    "# ссылка на модель на гугл диске https://drive.google.com/file/d/1pYYbx-ANsLybjYe1uv2L8R8cNTiZveNY/view?usp=sharing\n",
    "trainer = UnetTrainer(model, optimizer, criterion, 'cuda', metric_functions=make_metrics())\n",
    "summary = trainer.fit(train_loader, 20, val_loader=valid_loader)"
   ]
  },
  {
   "cell_type": "markdown",
   "metadata": {
    "id": "HaNlDfajYoeO"
   },
   "source": [
    "## Посмотрим метрики обученной модели на валидационном датасете"
   ]
  },
  {
   "cell_type": "code",
   "execution_count": 23,
   "metadata": {
    "colab": {
     "base_uri": "https://localhost:8080/"
    },
    "id": "ncJa-pXGJgMq",
    "outputId": "1be22cb5-2c62-434f-8e6a-1667d05a6c42"
   },
   "outputs": [
    {
     "data": {
      "text/plain": [
       "{'loss_train': array([0.50245992, 0.39301012, 0.38471356, 0.3773036 , 0.37120195,\n",
       "        0.37350045, 0.3717991 , 0.36484136, 0.3608833 , 0.35932401,\n",
       "        0.35263729, 0.35469043, 0.3448535 , 0.35449019, 0.34175346,\n",
       "        0.35540835, 0.33641122, 0.32769287, 0.32683025, 0.33059232]),\n",
       " 'dice_train': array([0.49754008, 0.60698988, 0.61528644, 0.6226964 , 0.62879806,\n",
       "        0.62649956, 0.62820091, 0.63515864, 0.6391167 , 0.64067599,\n",
       "        0.64736269, 0.64530954, 0.65514648, 0.64550981, 0.65824652,\n",
       "        0.64459164, 0.66358874, 0.67230709, 0.6731697 , 0.66940764]),\n",
       " 'accuracy_train': array([0.45690431, 0.59883183, 0.61055484, 0.61948384, 0.62490272,\n",
       "        0.62250868, 0.62420105, 0.62859781, 0.63306889, 0.63569706,\n",
       "        0.64099326, 0.64088157, 0.65009518, 0.64024634, 0.6543164 ,\n",
       "        0.64215005, 0.65872564, 0.66630351, 0.66968838, 0.66575281]),\n",
       " 'recall_train': array([0.6922322 , 0.6590778 , 0.66470144, 0.66612168, 0.67441415,\n",
       "        0.66977718, 0.6714991 , 0.67846416, 0.68130696, 0.68473402,\n",
       "        0.69011916, 0.687405  , 0.69449331, 0.68989394, 0.69560652,\n",
       "        0.68506061, 0.70324135, 0.71068213, 0.70904823, 0.70507221]),\n",
       " 'loss_test': array([0.42671546, 0.4046089 , 0.44259258, 0.37594465, 0.37249513,\n",
       "        0.39979849, 0.36696708, 0.37380283, 0.37763945, 0.38324673,\n",
       "        0.37777194, 0.35949698, 0.35983531, 0.35779586, 0.36368776,\n",
       "        0.3657897 , 0.35637698, 0.36525653, 0.34653553, 0.36490306]),\n",
       " 'dice_test': array([0.57328454, 0.5953911 , 0.55740741, 0.62405536, 0.62750488,\n",
       "        0.60020152, 0.63303291, 0.6261972 , 0.62236054, 0.61675322,\n",
       "        0.62222804, 0.64050298, 0.6401647 , 0.64220415, 0.63631222,\n",
       "        0.63421024, 0.64362297, 0.63474341, 0.65346441, 0.63509691]),\n",
       " 'accuracy_test': array([0.473225  , 0.55574835, 0.75024322, 0.67020125, 0.5878463 ,\n",
       "        0.67943314, 0.6238314 , 0.67727858, 0.65935293, 0.66601539,\n",
       "        0.67473976, 0.6305911 , 0.66000029, 0.61694289, 0.71058447,\n",
       "        0.59999798, 0.65608256, 0.58806431, 0.65558055, 0.69460969]),\n",
       " 'recall_test': array([0.77911387, 0.68411202, 0.47125735, 0.62008546, 0.71579539,\n",
       "        0.57146813, 0.67076915, 0.62026321, 0.62035534, 0.60677151,\n",
       "        0.60709313, 0.68048962, 0.6559319 , 0.70199899, 0.60355204,\n",
       "        0.70899533, 0.66675468, 0.73053868, 0.6844866 , 0.61270702])}"
      ]
     },
     "execution_count": 23,
     "metadata": {},
     "output_type": "execute_result"
    }
   ],
   "source": [
    "summary"
   ]
  },
  {
   "cell_type": "code",
   "execution_count": 24,
   "metadata": {
    "colab": {
     "base_uri": "https://localhost:8080/",
     "height": 295
    },
    "id": "9PZw7XACUngH",
    "outputId": "ba860494-beac-42e8-bf83-16c62a68e541"
   },
   "outputs": [
    {
     "data": {
      "image/png": "[encoded data removed]",
      "text/plain": [
       "<Figure size 432x288 with 1 Axes>"
      ]
     },
     "metadata": {
      "needs_background": "light"
     },
     "output_type": "display_data"
    }
   ],
   "source": [
    "# Функция потерь\n",
    "plot_history(summary['loss_train'], summary['loss_test'])"
   ]
  },
  {
   "cell_type": "code",
   "execution_count": 25,
   "metadata": {
    "colab": {
     "base_uri": "https://localhost:8080/",
     "height": 295
    },
    "id": "rJ6-a76_JjI5",
    "outputId": "d5008c34-dac2-4619-beaf-d0e789174429"
   },
   "outputs": [
    {
     "data": {
      "image/png": "[encoded data removed]",
      "text/plain": [
       "<Figure size 432x288 with 1 Axes>"
      ]
     },
     "metadata": {
      "needs_background": "light"
     },
     "output_type": "display_data"
    }
   ],
   "source": [
    "# Точность\n",
    "plot_history(summary['accuracy_train'], summary['accuracy_test'], \"accuracy\")"
   ]
  },
  {
   "cell_type": "code",
   "execution_count": 26,
   "metadata": {
    "colab": {
     "base_uri": "https://localhost:8080/",
     "height": 295
    },
    "id": "z2HIBtW4gYqe",
    "outputId": "1ca80d0c-97fa-4837-ba81-6063a1b5f12a"
   },
   "outputs": [
    {
     "data": {
      "image/png": "[encoded data removed]",
      "text/plain": [
       "<Figure size 432x288 with 1 Axes>"
      ]
     },
     "metadata": {
      "needs_background": "light"
     },
     "output_type": "display_data"
    }
   ],
   "source": [
    "# Полнота\n",
    "plot_history(summary['recall_train'], summary['recall_test'], \"recall\")"
   ]
  },
  {
   "cell_type": "code",
   "execution_count": 17,
   "metadata": {},
   "outputs": [],
   "source": [
    "# Дообучим модель, сохраненную после 10 эпохи\n",
    "model = torch.load('vgg16_10.pt').cuda()"
   ]
  },
  {
   "cell_type": "code",
   "execution_count": 18,
   "metadata": {},
   "outputs": [],
   "source": [
    "def make_criterion():\n",
    "    soft_dice = SoftDice()\n",
    "\n",
    "    def exp_dice(pred, target):\n",
    "        return 1 - soft_dice(torch.exp(pred[:, 1:]), target[:, 1:])\n",
    "\n",
    "    return exp_dice\n",
    "\n",
    "criterion = make_criterion()"
   ]
  },
  {
   "cell_type": "code",
   "execution_count": 82,
   "metadata": {},
   "outputs": [],
   "source": [
    "# Изменим скорость обучения\n",
    "optimizer = torch.optim.Adam(model.parameters(), 0.000039)"
   ]
  },
  {
   "cell_type": "code",
   "execution_count": 83,
   "metadata": {},
   "outputs": [
    {
     "name": "stderr",
     "output_type": "stream",
     "text": [
      "\r",
      "  0%|          | 0/20 [00:00<?, ?it/s]"
     ]
    },
    {
     "name": "stdout",
     "output_type": "stream",
     "text": [
      "1\n",
      "{'loss': 0.34512100579409766, 'dice': 0.6548789664491601, 'accuracy': 0.6471153574049562, 'recall': 0.6970664127968242}\n",
      "test =  {'loss': 0.3632208941311672, 'dice': 0.6367791047020814, 'accuracy': 0.6748688229754846, 'recall': 0.6329570581771781}\n"
     ]
    },
    {
     "name": "stderr",
     "output_type": "stream",
     "text": [
      "\r",
      "  5%|▌         | 1/20 [21:03<6:40:07, 1263.54s/it]"
     ]
    },
    {
     "name": "stdout",
     "output_type": "stream",
     "text": [
      "2\n",
      "{'loss': 0.34316315835919875, 'dice': 0.6568368124276982, 'accuracy': 0.6523974713934921, 'recall': 0.695531861619077}\n",
      "test =  {'loss': 0.35196357903809383, 'dice': 0.6480364061635117, 'accuracy': 0.6539590042726747, 'recall': 0.6687797015083248}\n"
     ]
    },
    {
     "name": "stderr",
     "output_type": "stream",
     "text": [
      "\r",
      " 10%|█         | 2/20 [41:34<6:16:09, 1253.88s/it]"
     ]
    },
    {
     "name": "stdout",
     "output_type": "stream",
     "text": [
      "3\n",
      "{'loss': 0.3345173774094417, 'dice': 0.6654826010568936, 'accuracy': 0.659223337057085, 'recall': 0.7037520153237391}\n",
      "test =  {'loss': 0.362063815059333, 'dice': 0.6379361833619467, 'accuracy': 0.6368967761856136, 'recall': 0.6781401882624497}\n"
     ]
    },
    {
     "name": "stderr",
     "output_type": "stream",
     "text": [
      "\r",
      " 15%|█▌        | 3/20 [1:01:54<5:52:20, 1243.53s/it]"
     ]
    },
    {
     "name": "stdout",
     "output_type": "stream",
     "text": [
      "4\n"
     ]
    },
    {
     "ename": "KeyboardInterrupt",
     "evalue": "",
     "output_type": "error",
     "traceback": [
      "\u001b[0;31m---------------------------------------------------------------------------\u001b[0m",
      "\u001b[0;31mKeyboardInterrupt\u001b[0m                         Traceback (most recent call last)",
      "\u001b[0;32m<ipython-input-83-1a4779d1c951>\u001b[0m in \u001b[0;36m<module>\u001b[0;34m\u001b[0m\n\u001b[1;32m      1\u001b[0m \u001b[0;31m# Обучаем модель\u001b[0m\u001b[0;34m\u001b[0m\u001b[0;34m\u001b[0m\u001b[0;34m\u001b[0m\u001b[0m\n\u001b[1;32m      2\u001b[0m \u001b[0mtrainer\u001b[0m \u001b[0;34m=\u001b[0m \u001b[0mUnetTrainer\u001b[0m\u001b[0;34m(\u001b[0m\u001b[0mmodel\u001b[0m\u001b[0;34m,\u001b[0m \u001b[0moptimizer\u001b[0m\u001b[0;34m,\u001b[0m \u001b[0mcriterion\u001b[0m\u001b[0;34m,\u001b[0m \u001b[0;34m'cuda'\u001b[0m\u001b[0;34m,\u001b[0m \u001b[0mmetric_functions\u001b[0m\u001b[0;34m=\u001b[0m\u001b[0mmake_metrics\u001b[0m\u001b[0;34m(\u001b[0m\u001b[0;34m)\u001b[0m\u001b[0;34m)\u001b[0m\u001b[0;34m\u001b[0m\u001b[0;34m\u001b[0m\u001b[0m\n\u001b[0;32m----> 3\u001b[0;31m \u001b[0msummary\u001b[0m \u001b[0;34m=\u001b[0m \u001b[0mtrainer\u001b[0m\u001b[0;34m.\u001b[0m\u001b[0mfit\u001b[0m\u001b[0;34m(\u001b[0m\u001b[0mtrain_loader\u001b[0m\u001b[0;34m,\u001b[0m \u001b[0;36m20\u001b[0m\u001b[0;34m,\u001b[0m \u001b[0mval_loader\u001b[0m\u001b[0;34m=\u001b[0m\u001b[0mvalid_loader\u001b[0m\u001b[0;34m)\u001b[0m\u001b[0;34m\u001b[0m\u001b[0;34m\u001b[0m\u001b[0m\n\u001b[0m",
      "\u001b[0;32m<ipython-input-75-0838b87fe378>\u001b[0m in \u001b[0;36mfit\u001b[0;34m(self, train_loader, num_epochs, val_loader, update_every_n_batches)\u001b[0m\n\u001b[1;32m    184\u001b[0m                 \u001b[0mmax\u001b[0m \u001b[0;34m=\u001b[0m \u001b[0;36m0\u001b[0m\u001b[0;34m\u001b[0m\u001b[0;34m\u001b[0m\u001b[0m\n\u001b[1;32m    185\u001b[0m             \u001b[0mprint\u001b[0m\u001b[0;34m(\u001b[0m\u001b[0mself\u001b[0m\u001b[0;34m.\u001b[0m\u001b[0mepoch_number\u001b[0m\u001b[0;34m)\u001b[0m\u001b[0;34m\u001b[0m\u001b[0;34m\u001b[0m\u001b[0m\n\u001b[0;32m--> 186\u001b[0;31m             \u001b[0mtrain_metrics\u001b[0m \u001b[0;34m=\u001b[0m \u001b[0mself\u001b[0m\u001b[0;34m.\u001b[0m\u001b[0mfit_epoch\u001b[0m\u001b[0;34m(\u001b[0m\u001b[0mtrain_loader\u001b[0m\u001b[0;34m,\u001b[0m \u001b[0mupdate_every_n_batches\u001b[0m\u001b[0;34m)\u001b[0m\u001b[0;34m\u001b[0m\u001b[0;34m\u001b[0m\u001b[0m\n\u001b[0m\u001b[1;32m    187\u001b[0m             \u001b[0mprint\u001b[0m\u001b[0;34m(\u001b[0m\u001b[0mtrain_metrics\u001b[0m\u001b[0;34m)\u001b[0m\u001b[0;34m\u001b[0m\u001b[0;34m\u001b[0m\u001b[0m\n\u001b[1;32m    188\u001b[0m             \u001b[0;32mwith\u001b[0m \u001b[0mtorch\u001b[0m\u001b[0;34m.\u001b[0m\u001b[0mno_grad\u001b[0m\u001b[0;34m(\u001b[0m\u001b[0;34m)\u001b[0m\u001b[0;34m:\u001b[0m\u001b[0;34m\u001b[0m\u001b[0;34m\u001b[0m\u001b[0m\n",
      "\u001b[0;32m<ipython-input-75-0838b87fe378>\u001b[0m in \u001b[0;36mfit_epoch\u001b[0;34m(self, train_loader, update_every_n_batches)\u001b[0m\n\u001b[1;32m    144\u001b[0m \u001b[0;34m\u001b[0m\u001b[0m\n\u001b[1;32m    145\u001b[0m         \u001b[0;32mwhile\u001b[0m \u001b[0;32mTrue\u001b[0m\u001b[0;34m:\u001b[0m\u001b[0;34m\u001b[0m\u001b[0;34m\u001b[0m\u001b[0m\n\u001b[0;32m--> 146\u001b[0;31m             \u001b[0mbatch_metrics\u001b[0m \u001b[0;34m=\u001b[0m \u001b[0mself\u001b[0m\u001b[0;34m.\u001b[0m\u001b[0mfit_batch\u001b[0m\u001b[0;34m(\u001b[0m\u001b[0mtrain_iterator\u001b[0m\u001b[0;34m,\u001b[0m \u001b[0mupdate_every_n_batches\u001b[0m\u001b[0;34m)\u001b[0m\u001b[0;34m\u001b[0m\u001b[0;34m\u001b[0m\u001b[0m\n\u001b[0m\u001b[1;32m    147\u001b[0m \u001b[0;34m\u001b[0m\u001b[0m\n\u001b[1;32m    148\u001b[0m             \u001b[0;32mif\u001b[0m \u001b[0mbatch_metrics\u001b[0m \u001b[0;32mis\u001b[0m \u001b[0;32mNone\u001b[0m\u001b[0;34m:\u001b[0m\u001b[0;34m\u001b[0m\u001b[0;34m\u001b[0m\u001b[0m\n",
      "\u001b[0;32m<ipython-input-75-0838b87fe378>\u001b[0m in \u001b[0;36mfit_batch\u001b[0;34m(self, train_iterator, update_every_n_batches)\u001b[0m\n\u001b[1;32m    129\u001b[0m \u001b[0;34m\u001b[0m\u001b[0m\n\u001b[1;32m    130\u001b[0m         \u001b[0;32mfor\u001b[0m \u001b[0mmetric_name\u001b[0m\u001b[0;34m,\u001b[0m \u001b[0mmetric_fn\u001b[0m \u001b[0;32min\u001b[0m \u001b[0mself\u001b[0m\u001b[0;34m.\u001b[0m\u001b[0mmetric_functions\u001b[0m\u001b[0;34m:\u001b[0m\u001b[0;34m\u001b[0m\u001b[0;34m\u001b[0m\u001b[0m\n\u001b[0;32m--> 131\u001b[0;31m             \u001b[0mmetrics\u001b[0m\u001b[0;34m[\u001b[0m\u001b[0mmetric_name\u001b[0m\u001b[0;34m]\u001b[0m \u001b[0;34m=\u001b[0m \u001b[0mmetric_fn\u001b[0m\u001b[0;34m(\u001b[0m\u001b[0mpredictions\u001b[0m\u001b[0;34m,\u001b[0m \u001b[0mtargets\u001b[0m\u001b[0;34m)\u001b[0m\u001b[0;34m.\u001b[0m\u001b[0mitem\u001b[0m\u001b[0;34m(\u001b[0m\u001b[0;34m)\u001b[0m\u001b[0;34m\u001b[0m\u001b[0;34m\u001b[0m\u001b[0m\n\u001b[0m\u001b[1;32m    132\u001b[0m \u001b[0;34m\u001b[0m\u001b[0m\n\u001b[1;32m    133\u001b[0m         \u001b[0;32mreturn\u001b[0m \u001b[0mmetrics\u001b[0m\u001b[0;34m\u001b[0m\u001b[0;34m\u001b[0m\u001b[0m\n",
      "\u001b[0;32m<ipython-input-77-0b4906e12c8b>\u001b[0m in \u001b[0;36mexp_acc\u001b[0;34m(pred, target)\u001b[0m\n\u001b[1;32m     92\u001b[0m \u001b[0;34m\u001b[0m\u001b[0m\n\u001b[1;32m     93\u001b[0m     \u001b[0;32mdef\u001b[0m \u001b[0mexp_acc\u001b[0m\u001b[0;34m(\u001b[0m\u001b[0mpred\u001b[0m\u001b[0;34m,\u001b[0m \u001b[0mtarget\u001b[0m\u001b[0;34m)\u001b[0m\u001b[0;34m:\u001b[0m\u001b[0;34m\u001b[0m\u001b[0;34m\u001b[0m\u001b[0m\n\u001b[0;32m---> 94\u001b[0;31m         \u001b[0;32mreturn\u001b[0m \u001b[0maccuracy\u001b[0m\u001b[0;34m(\u001b[0m\u001b[0mtorch\u001b[0m\u001b[0;34m.\u001b[0m\u001b[0mexp\u001b[0m\u001b[0;34m(\u001b[0m\u001b[0mpred\u001b[0m\u001b[0;34m[\u001b[0m\u001b[0;34m:\u001b[0m\u001b[0;34m,\u001b[0m \u001b[0;36m1\u001b[0m\u001b[0;34m:\u001b[0m\u001b[0;34m]\u001b[0m\u001b[0;34m)\u001b[0m\u001b[0;34m,\u001b[0m \u001b[0mtarget\u001b[0m\u001b[0;34m[\u001b[0m\u001b[0;34m:\u001b[0m\u001b[0;34m,\u001b[0m \u001b[0;36m1\u001b[0m\u001b[0;34m:\u001b[0m\u001b[0;34m]\u001b[0m\u001b[0;34m)\u001b[0m\u001b[0;34m\u001b[0m\u001b[0;34m\u001b[0m\u001b[0m\n\u001b[0m\u001b[1;32m     95\u001b[0m \u001b[0;34m\u001b[0m\u001b[0m\n\u001b[1;32m     96\u001b[0m     \u001b[0;32mdef\u001b[0m \u001b[0mexp_recall\u001b[0m\u001b[0;34m(\u001b[0m\u001b[0mpred\u001b[0m\u001b[0;34m,\u001b[0m \u001b[0mtarget\u001b[0m\u001b[0;34m)\u001b[0m\u001b[0;34m:\u001b[0m\u001b[0;34m\u001b[0m\u001b[0;34m\u001b[0m\u001b[0m\n",
      "\u001b[0;32m<ipython-input-77-0b4906e12c8b>\u001b[0m in \u001b[0;36m__call__\u001b[0;34m(self, predictions, targets)\u001b[0m\n\u001b[1;32m     73\u001b[0m \u001b[0;34m\u001b[0m\u001b[0m\n\u001b[1;32m     74\u001b[0m \u001b[0;34m\u001b[0m\u001b[0m\n\u001b[0;32m---> 75\u001b[0;31m         \u001b[0mnumerator\u001b[0m \u001b[0;34m=\u001b[0m \u001b[0mtorch\u001b[0m\u001b[0;34m.\u001b[0m\u001b[0msum\u001b[0m\u001b[0;34m(\u001b[0m\u001b[0mpredictions\u001b[0m \u001b[0;34m*\u001b[0m \u001b[0mtargets\u001b[0m\u001b[0;34m)\u001b[0m\u001b[0;34m\u001b[0m\u001b[0;34m\u001b[0m\u001b[0m\n\u001b[0m\u001b[1;32m     76\u001b[0m         \u001b[0mdenominator\u001b[0m \u001b[0;34m=\u001b[0m \u001b[0mtorch\u001b[0m\u001b[0;34m.\u001b[0m\u001b[0msum\u001b[0m\u001b[0;34m(\u001b[0m\u001b[0mtargets\u001b[0m\u001b[0;34m)\u001b[0m\u001b[0;34m\u001b[0m\u001b[0;34m\u001b[0m\u001b[0m\n\u001b[1;32m     77\u001b[0m \u001b[0;34m\u001b[0m\u001b[0m\n",
      "\u001b[0;31mKeyboardInterrupt\u001b[0m: "
     ]
    }
   ],
   "source": [
    "# На тестовых данных лучший результат был получен после 1 эпохи\n",
    "# Эта модель сохранена под названием vgg16_1.pt, ссылка на модель:\n",
    "# https://drive.google.com/file/d/1wbMDlZbjcPHVpjxMOmLNlAvED-bLmFyF/view?usp=sharing\n",
    "trainer = UnetTrainer(model, optimizer, criterion, 'cuda', metric_functions=make_metrics())\n",
    "summary = trainer.fit(train_loader, 20, val_loader=valid_loader)"
   ]
  },
  {
   "cell_type": "markdown",
   "metadata": {},
   "source": [
    "# ПРЕДСКАЗАНИЕ НА ТЕСТЕ"
   ]
  },
  {
   "cell_type": "code",
   "execution_count": 13,
   "metadata": {},
   "outputs": [],
   "source": [
    "# Функция создает директорию, если ее не существует по указанному пути\n",
    "def create_dir(path):\n",
    "    if not os.path.exists(path):\n",
    "        os.makedirs(path)"
   ]
  },
  {
   "cell_type": "code",
   "execution_count": 14,
   "metadata": {},
   "outputs": [],
   "source": [
    "test_path = 'content/test/parts_images/'\n",
    "test_parts_masks = 'content/test/parts_masks/'\n",
    "test_masks = 'content/test/masks/'\n",
    "binary_test_masks = 'content/test/masks_binary/'\n",
    "create_dir(test_parts_masks)\n",
    "create_dir(test_masks)\n",
    "create_dir(binary_test_masks)"
   ]
  },
  {
   "cell_type": "code",
   "execution_count": 34,
   "metadata": {},
   "outputs": [],
   "source": [
    "model = torch.load('vgg16_1.pt').cuda()"
   ]
  },
  {
   "cell_type": "code",
   "execution_count": 35,
   "metadata": {},
   "outputs": [],
   "source": [
    "class EyeDataset_test(Dataset):\n",
    "    \"\"\"\n",
    "    Класс датасета, организующий загрузку и получение изображений и соответствующих разметок\n",
    "    \"\"\"\n",
    "\n",
    "    def __init__(self, data_folder: str, transform = None):\n",
    "        self.class_ids = {\"vessel\": 1}\n",
    "\n",
    "        self.data_folder = data_folder\n",
    "        self.transform = transform\n",
    "        self._image_files = glob.glob(f\"{data_folder}/*.png\")\n",
    "\n",
    "    @staticmethod\n",
    "    def read_image(path: str) -> np.ndarray:\n",
    "        image = cv2.imread(str(path), cv2.IMREAD_COLOR)\n",
    "        image = cv2.cvtColor(image, cv2.COLOR_BGR2RGB)\n",
    "        image = np.array(image / 255, dtype=np.float32)\n",
    "        return image\n",
    "\n",
    "\n",
    "    def __getitem__(self, idx: int) -> dict:\n",
    "        # Достаём имя файла по индексу\n",
    "        image_path = self._image_files[idx]\n",
    "        \n",
    "        image = self.read_image(image_path)\n",
    "\n",
    "        sample = {'image': image,\n",
    "                 'path':image_path }\n",
    "        \n",
    "        if self.transform is not None:\n",
    "            sample = self.transform(**sample)\n",
    "\n",
    "        return sample\n",
    "\n",
    "    def __len__(self):\n",
    "        return len(self._image_files)\n"
   ]
  },
  {
   "cell_type": "code",
   "execution_count": 36,
   "metadata": {},
   "outputs": [],
   "source": [
    "# определяем путь к тестовому датасету и загружаем данные\n",
    "dataset_test = EyeDataset_test(test_path)\n",
    "test_dataset = DatasetPart(dataset_test, range(len(dataset_test)), transform=transforms['test'])\n",
    "test_loader = torch.utils.data.DataLoader(test_dataset, 1,\n",
    "                                   num_workers=2,\n",
    "                                   shuffle=False, drop_last=True)"
   ]
  },
  {
   "cell_type": "code",
   "execution_count": 37,
   "metadata": {},
   "outputs": [
    {
     "data": {
      "text/plain": [
       "2408"
      ]
     },
     "execution_count": 37,
     "metadata": {},
     "output_type": "execute_result"
    }
   ],
   "source": [
    "len(dataset_test)"
   ]
  },
  {
   "cell_type": "code",
   "execution_count": 5,
   "metadata": {},
   "outputs": [],
   "source": [
    "# получаем предсказанные маски\n",
    "for i, sample in zip(range(len(test_dataset)), test_dataset):\n",
    "    image = sample['image'].to(\"cuda\")\n",
    "    prediction = model.eval()(image.unsqueeze(dim=0))\n",
    "    torch.cuda.empty_cache()\n",
    "    image = (image.cpu() * 0).type(torch.uint8)\n",
    "    pred_ask = (torch.exp(prediction[0]) > 0.95).cpu()\n",
    "    image_with_mask = draw_segmentation_masks(image, pred_ask, alpha=1)\n",
    "    del image\n",
    "    del pred_ask\n",
    "    del prediction\n",
    "    image_with_mask = np.moveaxis(image_with_mask.cpu().numpy(), 0, -1)\n",
    "    img = image_with_mask[0:616, 0:406]\n",
    "    path = str(test_parts_masks) + str(sample['path'].split('/')[-1:])[2:-2]    \n",
    "    cv2.imwrite(path, img)\n",
    "    torch.cuda.empty_cache()"
   ]
  },
  {
   "cell_type": "code",
   "execution_count": 17,
   "metadata": {},
   "outputs": [],
   "source": [
    "# Функция объединяет 8 частей изображения в одно\n",
    "h_parts=4\n",
    "v_parts=2\n",
    "height=1232 \n",
    "width=1624\n",
    "def join_images(main_path, parts_path, new_path):\n",
    "    for file in sorted(os.listdir(main_path)):\n",
    "        if file[-3:] == 'png':\n",
    "            path_read = parts_path + file[:-4]\n",
    "            path_save = new_path + file\n",
    "            im_big = np.zeros((1232,1624,3))\n",
    "            for i in range(0, v_parts):\n",
    "                for j in range(0, h_parts):\n",
    "                    v_from = int(i*(height/v_parts))\n",
    "                    v_to = int((i+1)*(height/v_parts))\n",
    "                    h_from = int(j*(width/h_parts))\n",
    "                    h_to = int((j+1)*(width/h_parts))\n",
    "                \n",
    "                    im1 = cv2.imread(path_read+'_' + str((i*4)+(j+1)) + '.png', cv2.IMREAD_COLOR)\n",
    "                    im1 = np.array(im1)\n",
    "                    im_big[v_from:v_to, h_from:h_to, :] = im1[0:618, 0:406, :]\n",
    "            cv2.imwrite(path_save, im_big)"
   ]
  },
  {
   "cell_type": "code",
   "execution_count": 19,
   "metadata": {},
   "outputs": [],
   "source": [
    "join_images('content/test/eyes/', test_parts_masks, test_masks)"
   ]
  },
  {
   "cell_type": "markdown",
   "metadata": {},
   "source": [
    "##### Преобразуем все маски в числа от 0 до 255"
   ]
  },
  {
   "cell_type": "code",
   "execution_count": 20,
   "metadata": {},
   "outputs": [],
   "source": [
    "for file in os.listdir(test_masks):\n",
    "    img = cv2.imread(test_masks+file, cv2.IMREAD_GRAYSCALE)\n",
    "    thresh = 80\n",
    "    img = cv2.threshold(img, thresh, 255, cv2.THRESH_BINARY)[1]\n",
    "    cv2.imwrite(binary_test_masks+file, img)"
   ]
  },
  {
   "cell_type": "code",
   "execution_count": null,
   "metadata": {},
   "outputs": [],
   "source": []
  }
 ],
 "metadata": {
  "accelerator": "GPU",
  "colab": {
   "collapsed_sections": [],
   "provenance": []
  },
  "kernelspec": {
   "display_name": "Python 3 (ipykernel)",
   "language": "python",
   "name": "python3"
  },
  "language_info": {
   "codemirror_mode": {
    "name": "ipython",
    "version": 3
   },
   "file_extension": ".py",
   "mimetype": "text/x-python",
   "name": "python",
   "nbconvert_exporter": "python",
   "pygments_lexer": "ipython3",
   "version": "3.7.11"
  }
 },
 "nbformat": 4,
 "nbformat_minor": 1
}
